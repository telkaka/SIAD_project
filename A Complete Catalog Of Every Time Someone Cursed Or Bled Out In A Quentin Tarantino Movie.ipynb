{
 "cells": [
  {
   "cell_type": "markdown",
   "metadata": {},
   "source": [
    "# \"A Complete Catalog Of Every Time Someone Cursed Or Bled Out In A Quentin Tarantino Movie\""
   ]
  },
  {
   "cell_type": "markdown",
   "metadata": {},
   "source": [
    "autor: Magdalena Kudrycka, grupa I5, 132263"
   ]
  },
  {
   "cell_type": "markdown",
   "metadata": {},
   "source": [
    "### Quentin Tarantino to twórca, który słynie z brutalnych i wulgarnych filmów.\n",
    " W celu zobrazowania mającej to potwierdzać tezy zebrano siedem jego najpopularniejszych filmów: \"Reservoir Dogs\", \n",
    "\"Kill Bill vol. 1\", \"Kill Bill vol. 2\", \"Inglorious Basterds\", \"Django Unchained\" oraz \"Jackie Brown\" \n",
    "i zbadano sumaryczną ilość przekleństw i śmierci, przypadających na każdy z nich. "
   ]
  },
  {
   "cell_type": "markdown",
   "metadata": {},
   "source": [
    "Dane pobrano spod linku: https://github.com/fivethirtyeight/data/tree/master/tarantino "
   ]
  },
  {
   "cell_type": "markdown",
   "metadata": {},
   "source": [
    "Bazowano je na artykule z: https://fivethirtyeight.com/features/complete-catalog-curses-deaths-quentin-tarantino-films/"
   ]
  },
  {
   "cell_type": "markdown",
   "metadata": {},
   "source": [
    "Sporą trudnością w odczycie tych danych okazało się przemieszanie rekordów dotyczących ekranowych śmierci razem z tymi o przekleństwach. Do tego, jedynym rozróżnieniem analizowanych filmów był wpis w pierwszej kolumnie, co też bywało problematyczne. Część zastosowanych tutaj rozwiązań musiało zostać z tego powodu trochę przekomplikowanych. Dla uproszczenia odczytu danych powstał schemat:"
   ]
  },
  {
   "cell_type": "raw",
   "metadata": {},
   "source": [
    "1-431: Reservoir Dogs \n",
    "432-907: Pulp Fiction \n",
    "908-1027: Kill Bill vol. 1\n",
    "1028-1107: Kill Bill vol. 2\n",
    "1108-1213: Inglorious Basterds\n",
    "1214-1522: Django Unchained\n",
    "1523-1894: Jackie Brown"
   ]
  },
  {
   "cell_type": "markdown",
   "metadata": {},
   "source": [
    "## Analiza danych"
   ]
  },
  {
   "cell_type": "markdown",
   "metadata": {},
   "source": [
    "Na początek możemy sprawdzić, w którym filmie przekleństwo padło po raz pierwszy. Do tego potrzebujemy załadować plik, zawierający wszystkie dane:"
   ]
  },
  {
   "cell_type": "code",
   "execution_count": 1,
   "metadata": {},
   "outputs": [],
   "source": [
    "MyData <- read.csv(file = \"tarantino.csv\", header = TRUE, sep = \",\")"
   ]
  },
  {
   "cell_type": "markdown",
   "metadata": {},
   "source": [
    "Aby w rezultacie uzyskać tytuł filmu, czas i słowo, trzeba zastosować funkcję:"
   ]
  },
  {
   "cell_type": "code",
   "execution_count": 2,
   "metadata": {},
   "outputs": [
    {
     "name": "stdout",
     "output_type": "stream",
     "text": [
      "           movie type word minutes_in\n",
      "1 Reservoir Dogs word dick        0.4\n"
     ]
    }
   ],
   "source": [
    "min_temp <- 100\n",
    "for (row in 1:nrow(MyData))\n",
    "    {   \n",
    "            if (MyData[row,2] == 'word')\n",
    "                {\n",
    "                    if (MyData[row,4] < min_temp)\n",
    "                        {\n",
    "                        min_temp <- MyData[row,4]\n",
    "                        min_min <- MyData[row,]\n",
    "                    }\n",
    "        }\n",
    "                \n",
    "    }\n",
    "print(min_min)"
   ]
  },
  {
   "cell_type": "markdown",
   "metadata": {},
   "source": [
    "Z tego wynika, że filmem, w którym pada pierwsze przekleństwo jest \"Reservoir Dogs\"."
   ]
  },
  {
   "cell_type": "markdown",
   "metadata": {},
   "source": [
    "W analogiczny sposób można sprawdzić dane dotyczące pierwszej śmierci wśród analizowanych tu filmów."
   ]
  },
  {
   "cell_type": "code",
   "execution_count": 3,
   "metadata": {},
   "outputs": [
    {
     "name": "stdout",
     "output_type": "stream",
     "text": [
      "                movie  type word minutes_in\n",
      "1215 Django Unchained death            7.75\n"
     ]
    }
   ],
   "source": [
    "min_temp <- 100\n",
    "for (row in 1:nrow(MyData))\n",
    "    {   \n",
    "            if (MyData[row,2] == 'death')\n",
    "                {\n",
    "                    if (MyData[row,4] < min_temp)\n",
    "                        {\n",
    "                        min_temp <- MyData[row,4]\n",
    "                        min_min <- MyData[row,]\n",
    "                    }\n",
    "        }\n",
    "                \n",
    "    }\n",
    "print(min_min)"
   ]
  },
  {
   "cell_type": "markdown",
   "metadata": {},
   "source": [
    "Pierwsza ekranowa śmierć pojawiła się z kolei w \"Django Unchained\"."
   ]
  },
  {
   "cell_type": "markdown",
   "metadata": {},
   "source": [
    "Pojedyncza wartość niestety nie mówi zbyt wiele o całym zbiorze danych - zwłaszcza że bierzemy tu pod uwagę siedem różnych filmów, prawie każdy o odrębnej tematyce. Warto z tego powodu przeanalizować również to, kiedy pierwsze przekleństwo wystąpiło w każdym z omawianych filmów."
   ]
  },
  {
   "cell_type": "code",
   "execution_count": 4,
   "metadata": {},
   "outputs": [],
   "source": [
    "#funkcja sprawdzajaca pierwsze przeklenstwo, ktora przechowuje rowniez dane o filmie\n",
    "\n",
    "first_curses <- function (data, key)\n",
    "    {\n",
    "    counter <- 0\n",
    "    min_temp <- 100\n",
    "    for (row in 1:nrow(data))\n",
    "        {\n",
    "        if (data[row, key] == \"word\")\n",
    "            {\n",
    "            if (data[row, 4] < min_temp)\n",
    "                {\n",
    "                min_temp <- data[row, 4]\n",
    "                min_time <- data[row,]\n",
    "            }\n",
    "        }\n",
    "    }\n",
    "    min_time                #data frame\n",
    "}"
   ]
  },
  {
   "cell_type": "code",
   "execution_count": 5,
   "metadata": {},
   "outputs": [],
   "source": [
    "#laczenie wszystkich ramek z danymi w jedna, wieksza ramke\n",
    "first_curse <-rbind(first_curses(MyData[1:431,], 2),\n",
    "                    first_curses(MyData[432:907,],2), \n",
    "                    first_curses(MyData[908:1027,], 2),\n",
    "                    first_curses(MyData[1028:1107,],2),\n",
    "                    first_curses(MyData[1108:1213,], 2),\n",
    "                    first_curses(MyData[1214:1522,],2),\n",
    "                    first_curses(MyData[1523:1894,], 2))"
   ]
  },
  {
   "cell_type": "markdown",
   "metadata": {},
   "source": [
    "Teraz wystarczy tylko zastosować funkcję."
   ]
  },
  {
   "cell_type": "code",
   "execution_count": 6,
   "metadata": {},
   "outputs": [
    {
     "data": {
      "text/html": [
       "<table>\n",
       "<thead><tr><th></th><th scope=col>movie</th><th scope=col>type</th><th scope=col>word</th><th scope=col>minutes_in</th></tr></thead>\n",
       "<tbody>\n",
       "\t<tr><th scope=row>1</th><td>Reservoir Dogs     </td><td>word               </td><td>dick               </td><td> 0.40              </td></tr>\n",
       "\t<tr><th scope=row>432</th><td>Pulp Fiction       </td><td>word               </td><td>shit               </td><td> 0.52              </td></tr>\n",
       "\t<tr><th scope=row>908</th><td>Kill Bill: Vol. 1  </td><td>word               </td><td>bitch              </td><td> 7.12              </td></tr>\n",
       "\t<tr><th scope=row>1028</th><td>Kill Bill: Vol. 2  </td><td>word               </td><td>hell               </td><td> 1.18              </td></tr>\n",
       "\t<tr><th scope=row>1112</th><td>Inglorious Basterds</td><td>word               </td><td>hell               </td><td>22.20              </td></tr>\n",
       "\t<tr><th scope=row>1214</th><td>Django Unchained   </td><td>word               </td><td>goddamn            </td><td> 7.23              </td></tr>\n",
       "\t<tr><th scope=row>1523</th><td>Jackie Brown       </td><td>word               </td><td>ass                </td><td> 4.38              </td></tr>\n",
       "</tbody>\n",
       "</table>\n"
      ],
      "text/latex": [
       "\\begin{tabular}{r|llll}\n",
       "  & movie & type & word & minutes\\_in\\\\\n",
       "\\hline\n",
       "\t1 & Reservoir Dogs      & word                & dick                &  0.40              \\\\\n",
       "\t432 & Pulp Fiction        & word                & shit                &  0.52              \\\\\n",
       "\t908 & Kill Bill: Vol. 1   & word                & bitch               &  7.12              \\\\\n",
       "\t1028 & Kill Bill: Vol. 2   & word                & hell                &  1.18              \\\\\n",
       "\t1112 & Inglorious Basterds & word                & hell                & 22.20              \\\\\n",
       "\t1214 & Django Unchained    & word                & goddamn             &  7.23              \\\\\n",
       "\t1523 & Jackie Brown        & word                & ass                 &  4.38              \\\\\n",
       "\\end{tabular}\n"
      ],
      "text/markdown": [
       "\n",
       "| <!--/--> | movie | type | word | minutes_in | \n",
       "|---|---|---|---|---|---|---|\n",
       "| 1 | Reservoir Dogs      | word                | dick                |  0.40               | \n",
       "| 432 | Pulp Fiction        | word                | shit                |  0.52               | \n",
       "| 908 | Kill Bill: Vol. 1   | word                | bitch               |  7.12               | \n",
       "| 1028 | Kill Bill: Vol. 2   | word                | hell                |  1.18               | \n",
       "| 1112 | Inglorious Basterds | word                | hell                | 22.20               | \n",
       "| 1214 | Django Unchained    | word                | goddamn             |  7.23               | \n",
       "| 1523 | Jackie Brown        | word                | ass                 |  4.38               | \n",
       "\n",
       "\n"
      ],
      "text/plain": [
       "     movie               type word    minutes_in\n",
       "1    Reservoir Dogs      word dick     0.40     \n",
       "432  Pulp Fiction        word shit     0.52     \n",
       "908  Kill Bill: Vol. 1   word bitch    7.12     \n",
       "1028 Kill Bill: Vol. 2   word hell     1.18     \n",
       "1112 Inglorious Basterds word hell    22.20     \n",
       "1214 Django Unchained    word goddamn  7.23     \n",
       "1523 Jackie Brown        word ass      4.38     "
      ]
     },
     "metadata": {},
     "output_type": "display_data"
    }
   ],
   "source": [
    "first_curse"
   ]
  },
  {
   "cell_type": "markdown",
   "metadata": {},
   "source": [
    "Jak widać na przedstawionej tabeli, czas występowania pierwszego przekleństwa jest bardzo zróżnicowany. W przypadku \"Reservoir Dogs\" i \"Pulp Fiction\" wypada ono jeszcze przed pierwszą minutą trwania filmu, ale na przykład w \"Inglorious Basterds\" jest to dopiero dwudziesta druga minuta."
   ]
  },
  {
   "cell_type": "markdown",
   "metadata": {},
   "source": [
    "W ten sam sposób sprawdzamy dane o pierwszej ekranowej śmierci."
   ]
  },
  {
   "cell_type": "code",
   "execution_count": 7,
   "metadata": {},
   "outputs": [],
   "source": [
    "first_deaths <- function (data, key)\n",
    "    {\n",
    "    counter <- 0\n",
    "    min_temp <- 100\n",
    "    for (row in 1:nrow(data))\n",
    "        {\n",
    "        if (data[row, key] == \"death\")\n",
    "            {\n",
    "            if (data[row, 4] < min_temp)\n",
    "                {\n",
    "                min_temp <- data[row, 4]\n",
    "                min_time <- data[row,]\n",
    "            }\n",
    "        }\n",
    "    }\n",
    "    min_time\n",
    "}"
   ]
  },
  {
   "cell_type": "code",
   "execution_count": 8,
   "metadata": {},
   "outputs": [],
   "source": [
    "first_death <-rbind(first_deaths(MyData[1:431,], 2),\n",
    "                    first_deaths(MyData[432:907,],2), \n",
    "                    first_deaths(MyData[908:1027,], 2),\n",
    "                    first_deaths(MyData[1028:1107,],2),\n",
    "                    first_deaths(MyData[1108:1213,], 2),\n",
    "                    first_deaths(MyData[1214:1522,],2),\n",
    "                    first_deaths(MyData[1523:1894,], 2))"
   ]
  },
  {
   "cell_type": "markdown",
   "metadata": {},
   "source": [
    "Po zastosowaniu funkcji rysuje się tabela:"
   ]
  },
  {
   "cell_type": "code",
   "execution_count": 9,
   "metadata": {},
   "outputs": [
    {
     "data": {
      "text/html": [
       "<table>\n",
       "<thead><tr><th></th><th scope=col>movie</th><th scope=col>type</th><th scope=col>word</th><th scope=col>minutes_in</th></tr></thead>\n",
       "<tbody>\n",
       "\t<tr><th scope=row>269</th><td>Reservoir Dogs     </td><td>death              </td><td>                   </td><td>59.93              </td></tr>\n",
       "\t<tr><th scope=row>499</th><td>Pulp Fiction       </td><td>death              </td><td>                   </td><td>18.70              </td></tr>\n",
       "\t<tr><th scope=row>926</th><td>Kill Bill: Vol. 1  </td><td>death              </td><td>                   </td><td>13.53              </td></tr>\n",
       "\t<tr><th scope=row>1034</th><td>Kill Bill: Vol. 2  </td><td>death              </td><td>                   </td><td>14.38              </td></tr>\n",
       "\t<tr><th scope=row>1108</th><td>Inglorious Basterds</td><td>death              </td><td>                   </td><td>20.35              </td></tr>\n",
       "\t<tr><th scope=row>1215</th><td>Django Unchained   </td><td>death              </td><td>                   </td><td> 7.75              </td></tr>\n",
       "\t<tr><th scope=row>1626</th><td>Jackie Brown       </td><td>death              </td><td>                   </td><td>23.08              </td></tr>\n",
       "</tbody>\n",
       "</table>\n"
      ],
      "text/latex": [
       "\\begin{tabular}{r|llll}\n",
       "  & movie & type & word & minutes\\_in\\\\\n",
       "\\hline\n",
       "\t269 & Reservoir Dogs      & death               &                     & 59.93              \\\\\n",
       "\t499 & Pulp Fiction        & death               &                     & 18.70              \\\\\n",
       "\t926 & Kill Bill: Vol. 1   & death               &                     & 13.53              \\\\\n",
       "\t1034 & Kill Bill: Vol. 2   & death               &                     & 14.38              \\\\\n",
       "\t1108 & Inglorious Basterds & death               &                     & 20.35              \\\\\n",
       "\t1215 & Django Unchained    & death               &                     &  7.75              \\\\\n",
       "\t1626 & Jackie Brown        & death               &                     & 23.08              \\\\\n",
       "\\end{tabular}\n"
      ],
      "text/markdown": [
       "\n",
       "| <!--/--> | movie | type | word | minutes_in | \n",
       "|---|---|---|---|---|---|---|\n",
       "| 269 | Reservoir Dogs      | death               |                     | 59.93               | \n",
       "| 499 | Pulp Fiction        | death               |                     | 18.70               | \n",
       "| 926 | Kill Bill: Vol. 1   | death               |                     | 13.53               | \n",
       "| 1034 | Kill Bill: Vol. 2   | death               |                     | 14.38               | \n",
       "| 1108 | Inglorious Basterds | death               |                     | 20.35               | \n",
       "| 1215 | Django Unchained    | death               |                     |  7.75               | \n",
       "| 1626 | Jackie Brown        | death               |                     | 23.08               | \n",
       "\n",
       "\n"
      ],
      "text/plain": [
       "     movie               type  word minutes_in\n",
       "269  Reservoir Dogs      death      59.93     \n",
       "499  Pulp Fiction        death      18.70     \n",
       "926  Kill Bill: Vol. 1   death      13.53     \n",
       "1034 Kill Bill: Vol. 2   death      14.38     \n",
       "1108 Inglorious Basterds death      20.35     \n",
       "1215 Django Unchained    death       7.75     \n",
       "1626 Jackie Brown        death      23.08     "
      ]
     },
     "metadata": {},
     "output_type": "display_data"
    }
   ],
   "source": [
    "first_death"
   ]
  },
  {
   "cell_type": "markdown",
   "metadata": {},
   "source": [
    "W większości omawianych tu dzieł pierwsza śmierć przypada pomiędzy trzynastą a dwudziestą pierwszą minutą filmu. W \"Django Unchained\", jak to już zostało wcześniej policzone, jest to niecała ósma minuta, natomiast pierwszą ekranową śmierć w \"Reservoir Dogs\" można zobaczyć dopiero po upływie niemal godziny."
   ]
  },
  {
   "cell_type": "markdown",
   "metadata": {},
   "source": [
    "W przypadku przekleństw, zebrane dane informują także o tym, jakie konkretnie jest to słowo. Sprawdzenie najczęściej powtarzającego przekleństwa jest więc bardzo proste i wymaga zastosowania jednej komendy:"
   ]
  },
  {
   "cell_type": "code",
   "execution_count": 10,
   "metadata": {},
   "outputs": [
    {
     "data": {
      "text/html": [
       "<strong>fucking:</strong> 407"
      ],
      "text/latex": [
       "\\textbf{fucking:} 407"
      ],
      "text/markdown": [
       "**fucking:** 407"
      ],
      "text/plain": [
       "fucking \n",
       "    407 "
      ]
     },
     "metadata": {},
     "output_type": "display_data"
    }
   ],
   "source": [
    "head(sort(summary(MyData$word), T), 1)"
   ]
  },
  {
   "cell_type": "markdown",
   "metadata": {},
   "source": [
    "Z tego wynika, że najczęściej padało słowo \"fucking\", bo aż 407 razy."
   ]
  },
  {
   "cell_type": "markdown",
   "metadata": {},
   "source": [
    "Na wcześniej rysowanych tabelach widać było znaczące różnice w czasie występowania zarówno pierwszego przekleństwa, jak i pierwszej śmierci w omawianych filmach. Można się więc spodziewać, że niektóre dzieła Tarantino są bardziej wulgarne lub krwawe od innych. Aby sprawdzić, który film zawiera najwięcej przekleństw trzeba zastosować funkcję:"
   ]
  },
  {
   "cell_type": "code",
   "execution_count": 11,
   "metadata": {},
   "outputs": [],
   "source": [
    "counting_words <- function (data, key)\n",
    "    {\n",
    "    counter <- 0\n",
    "    for (row in 1:nrow(data))\n",
    "        {\n",
    "        if (data[row, key] == \"word\")\n",
    "            {\n",
    "            counter <- counter + 1\n",
    "        }\n",
    "    }\n",
    "    return(data.frame(data[1,1], counter))    #znowu data frame\n",
    "}"
   ]
  },
  {
   "cell_type": "code",
   "execution_count": 12,
   "metadata": {},
   "outputs": [],
   "source": [
    "all_words <- rbind(counting_words(MyData[1:431,], 2),\n",
    "                   counting_words(MyData[432:907,],2), \n",
    "                   counting_words(MyData[908:1027,], 2),\n",
    "                   counting_words(MyData[1028:1107,],2),\n",
    "                   counting_words(MyData[1108:1213,], 2),\n",
    "                   counting_words(MyData[1214:1522,],2),\n",
    "                   counting_words(MyData[1523:1894,], 2))"
   ]
  },
  {
   "cell_type": "markdown",
   "metadata": {},
   "source": [
    "Do sprawdzenia danych dotyczących najbardziej wulgarnego z omawianych tu filmów służy poniższa komenda:"
   ]
  },
  {
   "cell_type": "code",
   "execution_count": 13,
   "metadata": {},
   "outputs": [
    {
     "data": {
      "text/html": [
       "<table>\n",
       "<thead><tr><th></th><th scope=col>data.1..1.</th><th scope=col>counter</th></tr></thead>\n",
       "<tbody>\n",
       "\t<tr><th scope=row>2</th><td>Pulp Fiction</td><td>469         </td></tr>\n",
       "</tbody>\n",
       "</table>\n"
      ],
      "text/latex": [
       "\\begin{tabular}{r|ll}\n",
       "  & data.1..1. & counter\\\\\n",
       "\\hline\n",
       "\t2 & Pulp Fiction & 469         \\\\\n",
       "\\end{tabular}\n"
      ],
      "text/markdown": [
       "\n",
       "| <!--/--> | data.1..1. | counter | \n",
       "|---|\n",
       "| 2 | Pulp Fiction | 469          | \n",
       "\n",
       "\n"
      ],
      "text/plain": [
       "  data.1..1.   counter\n",
       "2 Pulp Fiction 469    "
      ]
     },
     "metadata": {},
     "output_type": "display_data"
    }
   ],
   "source": [
    "all_words[which.max(all_words$counter),]"
   ]
  },
  {
   "cell_type": "markdown",
   "metadata": {},
   "source": [
    "Z wprowadzonych danych wynika, że jest to \"Pulp Fiction\", które osiągnęło zawrotną liczbę 469 przekleństw na cały film."
   ]
  },
  {
   "cell_type": "markdown",
   "metadata": {},
   "source": [
    "Analogicznie poszukujemy najbardziej brutalnego filmu:"
   ]
  },
  {
   "cell_type": "code",
   "execution_count": 14,
   "metadata": {},
   "outputs": [],
   "source": [
    "counting_deaths <- function (data, key)\n",
    "    {\n",
    "    counter <- 0\n",
    "    for (row in 1:nrow(data))\n",
    "        {\n",
    "        if (data[row, key] == \"death\")\n",
    "            {\n",
    "            counter <- counter + 1\n",
    "        }\n",
    "    }\n",
    "    return(data.frame(data[1,1], counter))\n",
    "}"
   ]
  },
  {
   "cell_type": "code",
   "execution_count": 15,
   "metadata": {},
   "outputs": [
    {
     "data": {
      "text/html": [
       "<table>\n",
       "<thead><tr><th></th><th scope=col>data.1..1.</th><th scope=col>counter</th></tr></thead>\n",
       "<tbody>\n",
       "\t<tr><th scope=row>3</th><td>Kill Bill: Vol. 1</td><td>63               </td></tr>\n",
       "</tbody>\n",
       "</table>\n"
      ],
      "text/latex": [
       "\\begin{tabular}{r|ll}\n",
       "  & data.1..1. & counter\\\\\n",
       "\\hline\n",
       "\t3 & Kill Bill: Vol. 1 & 63               \\\\\n",
       "\\end{tabular}\n"
      ],
      "text/markdown": [
       "\n",
       "| <!--/--> | data.1..1. | counter | \n",
       "|---|\n",
       "| 3 | Kill Bill: Vol. 1 | 63                | \n",
       "\n",
       "\n"
      ],
      "text/plain": [
       "  data.1..1.        counter\n",
       "3 Kill Bill: Vol. 1 63     "
      ]
     },
     "metadata": {},
     "output_type": "display_data"
    }
   ],
   "source": [
    "all_deaths <- rbind(counting_deaths(MyData[1:431,], 2),\n",
    "                    counting_deaths(MyData[432:907,],2), \n",
    "                    counting_deaths(MyData[908:1027,], 2),\n",
    "                    counting_deaths(MyData[1028:1107,],2),\n",
    "                    counting_deaths(MyData[1108:1213,], 2),\n",
    "                    counting_deaths(MyData[1214:1522,],2),\n",
    "                    counting_deaths(MyData[1523:1894,], 2))\n",
    "all_deaths[which.max(all_deaths$counter),]"
   ]
  },
  {
   "cell_type": "markdown",
   "metadata": {},
   "source": [
    "Najbardziej brutalnym, czyli zawierającym najwięcej śmierci filmem Quentina Tarantino jest \"Kill Bill vol. 1\"."
   ]
  },
  {
   "cell_type": "markdown",
   "metadata": {},
   "source": [
    "Sprawdzenie wartości maksymalnych ponownie jednak niewiele mówi o całym zbiorze danych. Jako że analizujemy jedynie dwie zmienne: nazwę filmu i ilość przekleństw lub śmierci, wykres słupkowy będzie najbardziej czytelnym sposobem na zaprezentowanie tych informacji."
   ]
  },
  {
   "cell_type": "code",
   "execution_count": 16,
   "metadata": {},
   "outputs": [],
   "source": [
    "#funkcja do liczenia wystapien przeklenstw\n",
    "#nie mozna zastosowac samego nrow, bo przeklenstwa \n",
    "#i smierci sa pomiedzy soba wymieszane\n",
    "#natomiast poprzednia funkcja prezentuje wyniki w postaci data frame,\n",
    "#a my potrzebujemy tylko liczby\n",
    "\n",
    "c_w <- function (data, key)\n",
    "    {\n",
    "    counter <- 0\n",
    "    for (row in 1:nrow(data))\n",
    "        {\n",
    "        if (data[row, key] == \"word\")\n",
    "            {\n",
    "            counter <- counter + 1\n",
    "        }\n",
    "    }\n",
    "    return(counter)\n",
    "}"
   ]
  },
  {
   "cell_type": "code",
   "execution_count": 17,
   "metadata": {},
   "outputs": [],
   "source": [
    "#pomocnicza zmienna do wykresu\n",
    "sum_all_words <- c(\n",
    "    c_w(MyData[1:431,],2),\n",
    "    c_w(MyData[432:907,],2),\n",
    "    c_w(MyData[908:1027,], 2),\n",
    "    c_w(MyData[1028:1107,],2),\n",
    "    c_w(MyData[1108:1213,], 2),\n",
    "    c_w(MyData[1214:1522,],2),\n",
    "    c_w(MyData[1523:1894,], 2))"
   ]
  },
  {
   "cell_type": "code",
   "execution_count": 18,
   "metadata": {},
   "outputs": [
    {
     "data": {
      "image/png": "[encoded data removed]",
      "text/plain": [
       "Plot with title “Sumaryczna ilość przekleństw na film”"
      ]
     },
     "metadata": {},
     "output_type": "display_data"
    }
   ],
   "source": [
    "#rysowanie wykresu za pomoca funkcji barplot\n",
    "b_s_a_w <- barplot(\n",
    "                sum_all_words,\n",
    "                main = \"Sumaryczna ilość przekleństw na film\",\n",
    "                col = palette()\n",
    ")\n",
    "\n",
    "#wypisanie wartosci kazdego slupka\n",
    "text(b_s_a_w, sum_all_words, sum_all_words, 0.5, 1, col = \"white\")\n",
    "\n",
    "#legenda\n",
    "legend(\n",
    "    \"topright\",\n",
    "    c(\"Reservoir Dogs\",\"Pulp Fiction\",\"Kill Bill vol. 1\",\"Kill Bill vol. 2\",\n",
    "                    \"Inglorious Basterds\", \"Django Unchained\",\"Jackie Brown\"),\n",
    "    cex=0.6, \n",
    "    bty=\"n\",\n",
    "    fill = palette()\n",
    "\n",
    ")"
   ]
  },
  {
   "cell_type": "markdown",
   "metadata": {},
   "source": [
    "Rysuje się z tego ciekawy wyniosek. Mimo że \"Kill Bill vol. 1\" jest najbardziej brutalnym filmem, liczba przekleństw w porównaniu do innych analizowanych tu dzieł jest prawie że znikoma. Poza tym, za średnią ilość przekleństw we wszystkich filmach odpowiadają głównie cztery skrajne wartości. Na przykładzie tego wykresu można więc pokazać, że średnia jest miarą nieodporną na dane wejściowe."
   ]
  },
  {
   "cell_type": "code",
   "execution_count": 19,
   "metadata": {},
   "outputs": [
    {
     "data": {
      "text/html": [
       "243.428571428571"
      ],
      "text/latex": [
       "243.428571428571"
      ],
      "text/markdown": [
       "243.428571428571"
      ],
      "text/plain": [
       "[1] 243.4286"
      ]
     },
     "metadata": {},
     "output_type": "display_data"
    }
   ],
   "source": [
    "mean(sum_all_words)"
   ]
  },
  {
   "cell_type": "markdown",
   "metadata": {},
   "source": [
    "Wynosi ona aż 243, czyli ponad cztery razy więcej niż łączna ilość przekleństw chociażby w \"Inglorious Basterds\"!"
   ]
  },
  {
   "cell_type": "markdown",
   "metadata": {},
   "source": [
    "Jak wygląda sytuacja w przypadku średniej ilości śmierci?"
   ]
  },
  {
   "cell_type": "code",
   "execution_count": 20,
   "metadata": {},
   "outputs": [],
   "source": [
    "c_d <- function (data, key)\n",
    "    {\n",
    "    counter <- 0\n",
    "    for (row in 1:nrow(data))\n",
    "        {\n",
    "        if (data[row, key] == \"death\")\n",
    "            {\n",
    "            counter <- counter + 1\n",
    "        }\n",
    "    }\n",
    "    return(counter)\n",
    "}"
   ]
  },
  {
   "cell_type": "code",
   "execution_count": 21,
   "metadata": {},
   "outputs": [],
   "source": [
    "#pomocnicza zmienna do wykresu\n",
    "sum_all_deaths <- c(c_d(MyData[1:431,],2),\n",
    "                    c_d(MyData[432:907,],2),\n",
    "                    c_d(MyData[908:1027,], 2),\n",
    "                    c_d(MyData[1028:1107,],2),\n",
    "                    c_d(MyData[1108:1213,], 2),\n",
    "                    c_d(MyData[1214:1522,],2),\n",
    "                    c_d(MyData[1523:1894,], 2))"
   ]
  },
  {
   "cell_type": "code",
   "execution_count": 22,
   "metadata": {},
   "outputs": [
    {
     "data": {
      "image/png": "[encoded data removed]",
      "text/plain": [
       "Plot with title “Sumaryczna ilość śmierci na film”"
      ]
     },
     "metadata": {},
     "output_type": "display_data"
    }
   ],
   "source": [
    "b_s_a_d <- barplot(\n",
    "    sum_all_deaths,\n",
    "               main = \"Sumaryczna ilość śmierci na film\",\n",
    "               col = palette()\n",
    "       )\n",
    "\n",
    "text(b_s_a_d, sum_all_deaths, sum_all_deaths, 0.5, 1, col = \"white\")\n",
    "\n",
    "legend(\n",
    "    \"topright\",\n",
    "    c(\"Reservoir Dogs\",\"Pulp Fiction\",\"Kill Bill vol. 1\",\"Kill Bill vol. 2\",\n",
    "                    \"Inglorious Basterds\", \"Django Unchained\",\"Jackie Brown\"),\n",
    "    cex=0.6, \n",
    "    bty=\"n\",\n",
    "    fill = palette()\n",
    ")"
   ]
  },
  {
   "cell_type": "markdown",
   "metadata": {},
   "source": [
    "Tym razem jeszcze bardziej widać to, jak kiepską miarą jest tutaj średnia. Za jej wysokie wartości odpowiadają zaledwie trzy słupki, które przedstawiają \"Kill Bill vol. 2\"- czyli najbardziej brutalny z filmów, \"Inglorious Baserds\" oraz \"Django Unchained\"."
   ]
  },
  {
   "cell_type": "code",
   "execution_count": 23,
   "metadata": {},
   "outputs": [
    {
     "data": {
      "text/html": [
       "27.1428571428571"
      ],
      "text/latex": [
       "27.1428571428571"
      ],
      "text/markdown": [
       "27.1428571428571"
      ],
      "text/plain": [
       "[1] 27.14286"
      ]
     },
     "metadata": {},
     "output_type": "display_data"
    }
   ],
   "source": [
    "mean(sum_all_deaths)"
   ]
  },
  {
   "cell_type": "markdown",
   "metadata": {},
   "source": [
    "Średnia ilość śmierci, przypadająca na film jest więc niemal siedem razy wyższa od najniższej z wartości, która wynosi 4 i należy do \"Jackie Brown\" - jak się okazuje, najbardziej delikatnego filmu Tarantino (przynajmniej w kwestii ilości ekranowych śmierci)."
   ]
  },
  {
   "cell_type": "markdown",
   "metadata": {},
   "source": [
    "## Testowanie hipotezy"
   ]
  },
  {
   "cell_type": "markdown",
   "metadata": {},
   "source": [
    "W 2009 roku przeprowadzono eksperyment, który miał zbadać typ, częstotliwość i użycie przekleństw w filmach dla nastolatków. Według tych badań, wśród rozważanych 90 filmów pojawiło się łącznie 2311 przypadków przekleństw. Czy bazując na tych badaniach moża stwierdzić, że wszystkie filmy Quentina Tarantino (nie tylko te, które tu podsumowano) są bardziej wulgarne od przedstawionej średniej? Przyjmuję, że moje dane mają rozkład normalny"
   ]
  },
  {
   "cell_type": "markdown",
   "metadata": {},
   "source": [
    "źródło: \"Swearing In The Cinema: An analysis of profanity in US teen-oriented movies, 1980-2006\""
   ]
  },
  {
   "cell_type": "code",
   "execution_count": 24,
   "metadata": {},
   "outputs": [
    {
     "data": {
      "text/html": [
       "25.6777777777778"
      ],
      "text/latex": [
       "25.6777777777778"
      ],
      "text/markdown": [
       "25.6777777777778"
      ],
      "text/plain": [
       "[1] 25.67778"
      ]
     },
     "metadata": {},
     "output_type": "display_data"
    }
   ],
   "source": [
    "#na początku licze srednia z populacji\n",
    "(main_mean <- 2311/90)"
   ]
  },
  {
   "cell_type": "code",
   "execution_count": 25,
   "metadata": {},
   "outputs": [],
   "source": [
    "#moje dane\n",
    "hnumber <- 7 #ilosc filmow\n",
    "hmean <- mean(sum_all_words) #srednia ilosc przeklenstw\n",
    "hsd <- sd(sum_all_words) #odchylenie standardowe"
   ]
  },
  {
   "cell_type": "code",
   "execution_count": 26,
   "metadata": {},
   "outputs": [],
   "source": [
    "#hipotezy\n",
    "h0 <- (main_mean == hmean)\n",
    "h1 <- (main_mean < hmean)"
   ]
  },
  {
   "cell_type": "code",
   "execution_count": 27,
   "metadata": {},
   "outputs": [],
   "source": [
    "Ttest <- (hmean-main_mean)/(hsd/sqrt(hnumber))"
   ]
  },
  {
   "cell_type": "code",
   "execution_count": 28,
   "metadata": {},
   "outputs": [],
   "source": [
    "#przyjety przedzial ufnosci\n",
    "halpha <- 0.95"
   ]
  },
  {
   "cell_type": "code",
   "execution_count": 29,
   "metadata": {},
   "outputs": [],
   "source": [
    "#sprawdzam t Distribiution Table\n",
    "hT <- qt(halpha, hnumber-1)"
   ]
  },
  {
   "cell_type": "code",
   "execution_count": 30,
   "metadata": {},
   "outputs": [
    {
     "data": {
      "text/html": [
       "TRUE"
      ],
      "text/latex": [
       "TRUE"
      ],
      "text/markdown": [
       "TRUE"
      ],
      "text/plain": [
       "[1] TRUE"
      ]
     },
     "metadata": {},
     "output_type": "display_data"
    }
   ],
   "source": [
    "hT < Ttest"
   ]
  },
  {
   "cell_type": "code",
   "execution_count": 31,
   "metadata": {},
   "outputs": [],
   "source": [
    "#nie odrzucam h0."
   ]
  },
  {
   "cell_type": "code",
   "execution_count": null,
   "metadata": {},
   "outputs": [],
   "source": []
  }
 ],
 "metadata": {
  "kernelspec": {
   "display_name": "R",
   "language": "R",
   "name": "ir"
  },
  "language_info": {
   "codemirror_mode": "r",
   "file_extension": ".r",
   "mimetype": "text/x-r-source",
   "name": "R",
   "pygments_lexer": "r",
   "version": "3.4.4"
  }
 },
 "nbformat": 4,
 "nbformat_minor": 2
}
